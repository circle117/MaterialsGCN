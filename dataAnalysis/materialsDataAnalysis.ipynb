{
 "cells": [
  {
   "cell_type": "code",
   "execution_count": 1,
   "metadata": {
    "collapsed": true
   },
   "outputs": [],
   "source": [
    "import pandas as pd\n",
    "import os"
   ]
  },
  {
   "cell_type": "code",
   "execution_count": 2,
   "outputs": [
    {
     "data": {
      "text/plain": "          PID   Tg Tg_Method              Type  Method   Solvent Temperature1  \\\n0     P430471  316       DSC  Polycondensation       2       NMP           RT   \n1     P130063  500       TMA  Polycondensation       2      DMAc           RT   \n2     P430285  466       TMA  Polycondensation       1  m-cresol      202-250   \n3     P130368  427       DSC  Polycondensation       2      DMAc           RT   \n4     P130002  426       DMA  Polycondensation       2       NMP           RT   \n...       ...  ...       ...               ...     ...       ...          ...   \n1010  P432949   62       DSC  Polymer reaction       1       THF          120   \n1011  P432948   54       DSC  Polymer reaction       1       THF          120   \n1012  P432875   52       DSC  Polycondensation       1       DMF           75   \n1013  P432947   42       DSC  Polymer reaction       1       THF          120   \n1014  P433084   30       DSC  Polymer reaction       1       THF          120   \n\n      avg(Temperature1) Time1  avg(Time1)  Method2 min_temp  avg(min_temp)  \\\n0                  20.0    48        48.0      2.0      150          150.0   \n1                  20.0     2         2.0      2.0      150          150.0   \n2                   NaN     7         NaN      NaN      NaN            NaN   \n3                   2.5     7         7.0      3.0       RT           20.0   \n4                  20.0    17        17.0      2.0       80           80.0   \n...                 ...   ...         ...      ...      ...            ...   \n1010                NaN    24         NaN      NaN      NaN            NaN   \n1011                NaN    24         NaN      NaN      NaN            NaN   \n1012                NaN    43         NaN      NaN      NaN            NaN   \n1013                NaN    24         NaN      NaN      NaN            NaN   \n1014                NaN    24         NaN      NaN      NaN            NaN   \n\n     max_temp  avg(max_temp) Time2  avg(Time2)  \n0         350          350.0   1.5         1.5  \n1         300          300.0   2.5         2.5  \n2         NaN            NaN   NaN         NaN  \n3          RT           20.0   2.5         2.5  \n4         320          320.0     8         8.0  \n...       ...            ...   ...         ...  \n1010      NaN            NaN   NaN         NaN  \n1011      NaN            NaN   NaN         NaN  \n1012      NaN            NaN   NaN         NaN  \n1013      NaN            NaN   NaN         NaN  \n1014      NaN            NaN   NaN         NaN  \n\n[1015 rows x 17 columns]",
      "text/html": "<div>\n<style scoped>\n    .dataframe tbody tr th:only-of-type {\n        vertical-align: middle;\n    }\n\n    .dataframe tbody tr th {\n        vertical-align: top;\n    }\n\n    .dataframe thead th {\n        text-align: right;\n    }\n</style>\n<table border=\"1\" class=\"dataframe\">\n  <thead>\n    <tr style=\"text-align: right;\">\n      <th></th>\n      <th>PID</th>\n      <th>Tg</th>\n      <th>Tg_Method</th>\n      <th>Type</th>\n      <th>Method</th>\n      <th>Solvent</th>\n      <th>Temperature1</th>\n      <th>avg(Temperature1)</th>\n      <th>Time1</th>\n      <th>avg(Time1)</th>\n      <th>Method2</th>\n      <th>min_temp</th>\n      <th>avg(min_temp)</th>\n      <th>max_temp</th>\n      <th>avg(max_temp)</th>\n      <th>Time2</th>\n      <th>avg(Time2)</th>\n    </tr>\n  </thead>\n  <tbody>\n    <tr>\n      <th>0</th>\n      <td>P430471</td>\n      <td>316</td>\n      <td>DSC</td>\n      <td>Polycondensation</td>\n      <td>2</td>\n      <td>NMP</td>\n      <td>RT</td>\n      <td>20.0</td>\n      <td>48</td>\n      <td>48.0</td>\n      <td>2.0</td>\n      <td>150</td>\n      <td>150.0</td>\n      <td>350</td>\n      <td>350.0</td>\n      <td>1.5</td>\n      <td>1.5</td>\n    </tr>\n    <tr>\n      <th>1</th>\n      <td>P130063</td>\n      <td>500</td>\n      <td>TMA</td>\n      <td>Polycondensation</td>\n      <td>2</td>\n      <td>DMAc</td>\n      <td>RT</td>\n      <td>20.0</td>\n      <td>2</td>\n      <td>2.0</td>\n      <td>2.0</td>\n      <td>150</td>\n      <td>150.0</td>\n      <td>300</td>\n      <td>300.0</td>\n      <td>2.5</td>\n      <td>2.5</td>\n    </tr>\n    <tr>\n      <th>2</th>\n      <td>P430285</td>\n      <td>466</td>\n      <td>TMA</td>\n      <td>Polycondensation</td>\n      <td>1</td>\n      <td>m-cresol</td>\n      <td>202-250</td>\n      <td>NaN</td>\n      <td>7</td>\n      <td>NaN</td>\n      <td>NaN</td>\n      <td>NaN</td>\n      <td>NaN</td>\n      <td>NaN</td>\n      <td>NaN</td>\n      <td>NaN</td>\n      <td>NaN</td>\n    </tr>\n    <tr>\n      <th>3</th>\n      <td>P130368</td>\n      <td>427</td>\n      <td>DSC</td>\n      <td>Polycondensation</td>\n      <td>2</td>\n      <td>DMAc</td>\n      <td>RT</td>\n      <td>2.5</td>\n      <td>7</td>\n      <td>7.0</td>\n      <td>3.0</td>\n      <td>RT</td>\n      <td>20.0</td>\n      <td>RT</td>\n      <td>20.0</td>\n      <td>2.5</td>\n      <td>2.5</td>\n    </tr>\n    <tr>\n      <th>4</th>\n      <td>P130002</td>\n      <td>426</td>\n      <td>DMA</td>\n      <td>Polycondensation</td>\n      <td>2</td>\n      <td>NMP</td>\n      <td>RT</td>\n      <td>20.0</td>\n      <td>17</td>\n      <td>17.0</td>\n      <td>2.0</td>\n      <td>80</td>\n      <td>80.0</td>\n      <td>320</td>\n      <td>320.0</td>\n      <td>8</td>\n      <td>8.0</td>\n    </tr>\n    <tr>\n      <th>...</th>\n      <td>...</td>\n      <td>...</td>\n      <td>...</td>\n      <td>...</td>\n      <td>...</td>\n      <td>...</td>\n      <td>...</td>\n      <td>...</td>\n      <td>...</td>\n      <td>...</td>\n      <td>...</td>\n      <td>...</td>\n      <td>...</td>\n      <td>...</td>\n      <td>...</td>\n      <td>...</td>\n      <td>...</td>\n    </tr>\n    <tr>\n      <th>1010</th>\n      <td>P432949</td>\n      <td>62</td>\n      <td>DSC</td>\n      <td>Polymer reaction</td>\n      <td>1</td>\n      <td>THF</td>\n      <td>120</td>\n      <td>NaN</td>\n      <td>24</td>\n      <td>NaN</td>\n      <td>NaN</td>\n      <td>NaN</td>\n      <td>NaN</td>\n      <td>NaN</td>\n      <td>NaN</td>\n      <td>NaN</td>\n      <td>NaN</td>\n    </tr>\n    <tr>\n      <th>1011</th>\n      <td>P432948</td>\n      <td>54</td>\n      <td>DSC</td>\n      <td>Polymer reaction</td>\n      <td>1</td>\n      <td>THF</td>\n      <td>120</td>\n      <td>NaN</td>\n      <td>24</td>\n      <td>NaN</td>\n      <td>NaN</td>\n      <td>NaN</td>\n      <td>NaN</td>\n      <td>NaN</td>\n      <td>NaN</td>\n      <td>NaN</td>\n      <td>NaN</td>\n    </tr>\n    <tr>\n      <th>1012</th>\n      <td>P432875</td>\n      <td>52</td>\n      <td>DSC</td>\n      <td>Polycondensation</td>\n      <td>1</td>\n      <td>DMF</td>\n      <td>75</td>\n      <td>NaN</td>\n      <td>43</td>\n      <td>NaN</td>\n      <td>NaN</td>\n      <td>NaN</td>\n      <td>NaN</td>\n      <td>NaN</td>\n      <td>NaN</td>\n      <td>NaN</td>\n      <td>NaN</td>\n    </tr>\n    <tr>\n      <th>1013</th>\n      <td>P432947</td>\n      <td>42</td>\n      <td>DSC</td>\n      <td>Polymer reaction</td>\n      <td>1</td>\n      <td>THF</td>\n      <td>120</td>\n      <td>NaN</td>\n      <td>24</td>\n      <td>NaN</td>\n      <td>NaN</td>\n      <td>NaN</td>\n      <td>NaN</td>\n      <td>NaN</td>\n      <td>NaN</td>\n      <td>NaN</td>\n      <td>NaN</td>\n    </tr>\n    <tr>\n      <th>1014</th>\n      <td>P433084</td>\n      <td>30</td>\n      <td>DSC</td>\n      <td>Polymer reaction</td>\n      <td>1</td>\n      <td>THF</td>\n      <td>120</td>\n      <td>NaN</td>\n      <td>24</td>\n      <td>NaN</td>\n      <td>NaN</td>\n      <td>NaN</td>\n      <td>NaN</td>\n      <td>NaN</td>\n      <td>NaN</td>\n      <td>NaN</td>\n      <td>NaN</td>\n    </tr>\n  </tbody>\n</table>\n<p>1015 rows × 17 columns</p>\n</div>"
     },
     "execution_count": 2,
     "metadata": {},
     "output_type": "execute_result"
    }
   ],
   "source": [
    "filePath = \"../dataset\"\n",
    "fileName = \"data.xlsx\"\n",
    "dfRaw = pd.read_excel(os.path.join(filePath, fileName))\n",
    "dfRaw"
   ],
   "metadata": {
    "collapsed": false,
    "pycharm": {
     "name": "#%%\n"
    }
   }
  },
  {
   "cell_type": "code",
   "execution_count": 3,
   "outputs": [
    {
     "name": "stdout",
     "output_type": "stream",
     "text": [
      "Method:\n",
      "One-step: 380\n",
      "Two-step: 635\n"
     ]
    }
   ],
   "source": [
    "# Method\n",
    "print(\"Method:\")\n",
    "print(\"One-step:\", dfRaw[dfRaw['Method']==1].shape[0])\n",
    "print(\"Two-step:\", dfRaw[dfRaw['Method']==2].shape[0])"
   ],
   "metadata": {
    "collapsed": false,
    "pycharm": {
     "name": "#%%\n"
    }
   }
  },
  {
   "cell_type": "code",
   "execution_count": 4,
   "outputs": [
    {
     "name": "stdout",
     "output_type": "stream",
     "text": [
      "Two step\n",
      "635\n"
     ]
    }
   ],
   "source": [
    "# For Two-step\n",
    "df = dfRaw[dfRaw['Method']==2].copy(deep=True)\n",
    "del dfRaw\n",
    "print(\"Two step\")\n",
    "print(df.shape[0])"
   ],
   "metadata": {
    "collapsed": false,
    "pycharm": {
     "name": "#%%\n"
    }
   }
  },
  {
   "cell_type": "code",
   "execution_count": 5,
   "outputs": [],
   "source": [
    "from matplotlib import pyplot as plt\n",
    "import seaborn as sns\n",
    "imgPath = \"../dataAnalysis/img\""
   ],
   "metadata": {
    "collapsed": false,
    "pycharm": {
     "name": "#%%\n"
    }
   }
  },
  {
   "cell_type": "code",
   "execution_count": 6,
   "outputs": [
    {
     "name": "stdout",
     "output_type": "stream",
     "text": [
      "Tg:\n",
      "count    635.000000\n",
      "mean     266.853543\n",
      "std       59.512576\n",
      "min      112.000000\n",
      "25%      232.000000\n",
      "50%      261.000000\n",
      "75%      298.000000\n",
      "max      500.000000\n",
      "Name: Tg, dtype: float64\n"
     ]
    },
    {
     "data": {
      "text/plain": "<Figure size 360x360 with 1 Axes>",
      "image/png": "[encoded data removed]"
     },
     "metadata": {
      "needs_background": "light"
     },
     "output_type": "display_data"
    }
   ],
   "source": [
    "print(\"Tg:\")\n",
    "print(df['Tg'].describe())\n",
    "ax = sns.displot(data=df, x='Tg')\n",
    "plt.savefig(os.path.join(imgPath, 'tgDisplot.png'))"
   ],
   "metadata": {
    "collapsed": false,
    "pycharm": {
     "name": "#%%\n"
    }
   }
  },
  {
   "cell_type": "code",
   "execution_count": 7,
   "outputs": [
    {
     "name": "stdout",
     "output_type": "stream",
     "text": [
      "tgMethod:\n",
      "count     621\n",
      "unique      5\n",
      "top       DSC\n",
      "freq      456\n",
      "Name: Tg_Method, dtype: object\n"
     ]
    },
    {
     "data": {
      "text/plain": "<Figure size 360x360 with 1 Axes>",
      "image/png": "[encoded data removed]"
     },
     "metadata": {
      "needs_background": "light"
     },
     "output_type": "display_data"
    }
   ],
   "source": [
    "print(\"tgMethod:\")\n",
    "print(df['Tg_Method'].describe())\n",
    "ax = sns.displot(data=df, x='Tg_Method')\n",
    "plt.savefig(os.path.join(imgPath, 'tgMethodDisplot.png'))"
   ],
   "metadata": {
    "collapsed": false,
    "pycharm": {
     "name": "#%%\n"
    }
   }
  },
  {
   "cell_type": "code",
   "execution_count": 8,
   "outputs": [
    {
     "name": "stdout",
     "output_type": "stream",
     "text": [
      "solvent:\n",
      "count      635\n",
      "unique       4\n",
      "top       DMAc\n",
      "freq       344\n",
      "Name: Solvent, dtype: object\n"
     ]
    },
    {
     "data": {
      "text/plain": "<Figure size 360x360 with 1 Axes>",
      "image/png": "[encoded data removed]"
     },
     "metadata": {
      "needs_background": "light"
     },
     "output_type": "display_data"
    }
   ],
   "source": [
    "print(\"solvent:\")\n",
    "print(df['Solvent'].describe())\n",
    "ax = sns.displot(data=df, x='Solvent')\n",
    "plt.savefig(os.path.join(imgPath, 'solventDisplot.png'))"
   ],
   "metadata": {
    "collapsed": false,
    "pycharm": {
     "name": "#%%\n"
    }
   }
  },
  {
   "cell_type": "code",
   "execution_count": 9,
   "outputs": [
    {
     "name": "stdout",
     "output_type": "stream",
     "text": [
      "temperature1(avg):\n",
      "count    635.000000\n",
      "mean      20.613386\n",
      "std        9.263053\n",
      "min        0.000000\n",
      "25%       20.000000\n",
      "50%       20.000000\n",
      "75%       20.000000\n",
      "max      100.000000\n",
      "Name: avg(Temperature1), dtype: float64\n"
     ]
    },
    {
     "data": {
      "text/plain": "<Figure size 360x360 with 1 Axes>",
      "image/png": "[encoded data removed]"
     },
     "metadata": {
      "needs_background": "light"
     },
     "output_type": "display_data"
    }
   ],
   "source": [
    "print(\"temperature1(avg):\")\n",
    "print(df['avg(Temperature1)'].describe())\n",
    "ax = sns.displot(data=df, x='avg(Temperature1)')\n",
    "plt.savefig(os.path.join(imgPath, 'avgTemperature1Displot.png'))"
   ],
   "metadata": {
    "collapsed": false,
    "pycharm": {
     "name": "#%%\n"
    }
   }
  },
  {
   "cell_type": "code",
   "execution_count": 10,
   "outputs": [
    {
     "name": "stdout",
     "output_type": "stream",
     "text": [
      "time1(avg):\n",
      "count    635.000000\n",
      "mean      16.147638\n",
      "std       11.149488\n",
      "min        1.000000\n",
      "25%        6.000000\n",
      "50%       20.000000\n",
      "75%       24.000000\n",
      "max       50.000000\n",
      "Name: avg(Time1), dtype: float64\n"
     ]
    },
    {
     "data": {
      "text/plain": "<Figure size 360x360 with 1 Axes>",
      "image/png": "[encoded data removed]"
     },
     "metadata": {
      "needs_background": "light"
     },
     "output_type": "display_data"
    }
   ],
   "source": [
    "print(\"time1(avg):\")\n",
    "print(df['avg(Time1)'].describe())\n",
    "ax = sns.displot(data=df, x='avg(Time1)')\n",
    "plt.savefig(os.path.join(imgPath, 'avgTime1Displot.png'))"
   ],
   "metadata": {
    "collapsed": false,
    "pycharm": {
     "name": "#%%\n"
    }
   }
  },
  {
   "cell_type": "code",
   "execution_count": 11,
   "outputs": [
    {
     "name": "stdout",
     "output_type": "stream",
     "text": [
      "method2:\n",
      "count    635.000000\n",
      "mean       2.250394\n",
      "std        0.670688\n",
      "min        1.000000\n",
      "25%        2.000000\n",
      "50%        2.000000\n",
      "75%        3.000000\n",
      "max        3.000000\n",
      "Name: Method2, dtype: float64\n"
     ]
    },
    {
     "data": {
      "text/plain": "<Figure size 432x288 with 1 Axes>",
      "image/png": "[encoded data removed]"
     },
     "metadata": {
      "needs_background": "light"
     },
     "output_type": "display_data"
    }
   ],
   "source": [
    "print(\"method2:\")\n",
    "print(df['Method2'].describe())\n",
    "df.loc[:, 'Method2'] = df['Method2'].apply(str)\n",
    "ax = sns.histplot(data=df, x='Method2')\n",
    "plt.savefig(os.path.join(imgPath, 'method1Displot.png'))"
   ],
   "metadata": {
    "collapsed": false,
    "pycharm": {
     "name": "#%%\n"
    }
   }
  },
  {
   "cell_type": "code",
   "execution_count": 12,
   "outputs": [
    {
     "name": "stdout",
     "output_type": "stream",
     "text": [
      "min_temp(avg)\n",
      "count    635.000000\n",
      "mean     104.000000\n",
      "std       73.608436\n",
      "min       20.000000\n",
      "25%       55.000000\n",
      "50%      100.000000\n",
      "75%      150.000000\n",
      "max      350.000000\n",
      "Name: avg(min_temp), dtype: float64\n"
     ]
    },
    {
     "data": {
      "text/plain": "<Figure size 432x288 with 1 Axes>",
      "image/png": "[encoded data removed]"
     },
     "metadata": {
      "needs_background": "light"
     },
     "output_type": "display_data"
    }
   ],
   "source": [
    "print(\"min_temp(avg)\")\n",
    "print(df['avg(min_temp)'].describe())\n",
    "ax = sns.histplot(data=df, x='avg(min_temp)')\n",
    "plt.savefig(os.path.join(imgPath, 'avgMinTempDisplot.png'))"
   ],
   "metadata": {
    "collapsed": false,
    "pycharm": {
     "name": "#%%\n"
    }
   }
  },
  {
   "cell_type": "code",
   "execution_count": 13,
   "outputs": [
    {
     "name": "stdout",
     "output_type": "stream",
     "text": [
      "max_temp(avg)\n",
      "count    635.000000\n",
      "mean     195.188976\n",
      "std      116.975403\n",
      "min       20.000000\n",
      "25%       80.000000\n",
      "50%      250.000000\n",
      "75%      300.000000\n",
      "max      420.000000\n",
      "Name: avg(max_temp), dtype: float64\n"
     ]
    },
    {
     "data": {
      "text/plain": "<Figure size 432x288 with 1 Axes>",
      "image/png": "[encoded data removed]"
     },
     "metadata": {
      "needs_background": "light"
     },
     "output_type": "display_data"
    }
   ],
   "source": [
    "print(\"max_temp(avg)\")\n",
    "print(df['avg(max_temp)'].describe())\n",
    "ax = sns.histplot(data=df, x='avg(max_temp)')\n",
    "plt.savefig(os.path.join(imgPath, 'avgMaxTempDisplot.png'))"
   ],
   "metadata": {
    "collapsed": false,
    "pycharm": {
     "name": "#%%\n"
    }
   }
  },
  {
   "cell_type": "code",
   "execution_count": 15,
   "outputs": [
    {
     "name": "stdout",
     "output_type": "stream",
     "text": [
      "time2(avg)\n",
      "count    635.000000\n",
      "mean       6.384016\n",
      "std        7.034683\n",
      "min        0.500000\n",
      "25%        2.500000\n",
      "50%        4.000000\n",
      "75%        6.000000\n",
      "max       31.000000\n",
      "Name: avg(Time2), dtype: float64\n"
     ]
    },
    {
     "data": {
      "text/plain": "<Figure size 432x288 with 1 Axes>",
      "image/png": "[encoded data removed]"
     },
     "metadata": {
      "needs_background": "light"
     },
     "output_type": "display_data"
    }
   ],
   "source": [
    "print(\"time2(avg)\")\n",
    "print(df['avg(Time2)'].describe())\n",
    "ax = sns.histplot(data=df, x='avg(Time2)')\n",
    "plt.savefig(os.path.join(imgPath, 'avgTime2Displot.png'))"
   ],
   "metadata": {
    "collapsed": false,
    "pycharm": {
     "name": "#%%\n"
    }
   }
  },
  {
   "cell_type": "code",
   "execution_count": null,
   "outputs": [],
   "source": [],
   "metadata": {
    "collapsed": false,
    "pycharm": {
     "name": "#%%\n"
    }
   }
  }
 ],
 "metadata": {
  "kernelspec": {
   "display_name": "Python 3",
   "language": "python",
   "name": "python3"
  },
  "language_info": {
   "codemirror_mode": {
    "name": "ipython",
    "version": 2
   },
   "file_extension": ".py",
   "mimetype": "text/x-python",
   "name": "python",
   "nbconvert_exporter": "python",
   "pygments_lexer": "ipython2",
   "version": "2.7.6"
  }
 },
 "nbformat": 4,
 "nbformat_minor": 0
}