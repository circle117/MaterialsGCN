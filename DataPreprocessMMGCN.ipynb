{
 "cells": [
  {
   "cell_type": "code",
   "execution_count": 1,
   "metadata": {
    "collapsed": true
   },
   "outputs": [],
   "source": [
    "from rdkit import Chem\n",
    "import pandas as pd\n",
    "import os\n",
    "datasetPath = './dataset'\n",
    "excelName = 'data.xlsx'\n",
    "tgMethod = 'ALL'                        # ALL or method's name\n",
    "ifType = False                          # use TYPE as feature or not\n",
    "method = 2\n",
    "solvent = ['DMAc', 'NMP', 'DMF']\n",
    "\n",
    "csvName = 'dataMethod%d.csv' % method"
   ]
  },
  {
   "cell_type": "code",
   "execution_count": 2,
   "outputs": [
    {
     "data": {
      "text/plain": "          PID   Tg Tg_Method              Type  Method   Solvent Temperature1  \\\n0     P130189  247       DSC  Polycondensation       1  m-cresol      160-180   \n1     P433104  205       DSC  Polycondensation       1       NMP          105   \n2     P433620  134       DSC  Polycondensation       2      DMAc            0   \n3     P432353  278       DSC  Polycondensation       1  m-cresol        70-90   \n4     P433254  232       DSC  Polycondensation       2       NMP           RT   \n...       ...  ...       ...               ...     ...       ...          ...   \n1010  P432792  210       DSC  Polycondensation       1       THF           RT   \n1011  P432512  175       DSC  Polycondensation       2      DMAc           RT   \n1012  P432100  265       TMA  Polycondensation       2      DMAc           RT   \n1013  P432502  142       DSC  Polycondensation       1  m-cresol          200   \n1014  P430172  216       DSC  Polycondensation       1       NMP          190   \n\n      avg(Temperature1)      Time1  avg(Time1)  Method2 min_temp  \\\n0                   NaN        3.5         NaN      NaN      NaN   \n1                   NaN          3         NaN      NaN      NaN   \n2                   0.0         24        24.0      3.0      100   \n3                   NaN          4         NaN      NaN      NaN   \n4                  20.0         24        24.0      2.0       80   \n...                 ...        ...         ...      ...      ...   \n1010                NaN         72         NaN      NaN      NaN   \n1011               20.0          2         2.0      2.0       60   \n1012               20.0  overnight        20.0      2.0      100   \n1013                NaN          6         NaN      NaN      NaN   \n1014                NaN          2         NaN      NaN      NaN   \n\n      avg(min_temp) max_temp  avg(max_temp) Time2  avg(Time2)  \n0               NaN      NaN            NaN   NaN         NaN  \n1               NaN      NaN            NaN   NaN         NaN  \n2             100.0      100          100.0     4         4.0  \n3               NaN      NaN            NaN   NaN         NaN  \n4              80.0      300          300.0   6.5         6.5  \n...             ...      ...            ...   ...         ...  \n1010            NaN      NaN            NaN   NaN         NaN  \n1011           60.0      200          200.0     1         1.0  \n1012          100.0      300          300.0     6         6.0  \n1013            NaN      NaN            NaN   NaN         NaN  \n1014            NaN      NaN            NaN   NaN         NaN  \n\n[1015 rows x 17 columns]",
      "text/html": "<div>\n<style scoped>\n    .dataframe tbody tr th:only-of-type {\n        vertical-align: middle;\n    }\n\n    .dataframe tbody tr th {\n        vertical-align: top;\n    }\n\n    .dataframe thead th {\n        text-align: right;\n    }\n</style>\n<table border=\"1\" class=\"dataframe\">\n  <thead>\n    <tr style=\"text-align: right;\">\n      <th></th>\n      <th>PID</th>\n      <th>Tg</th>\n      <th>Tg_Method</th>\n      <th>Type</th>\n      <th>Method</th>\n      <th>Solvent</th>\n      <th>Temperature1</th>\n      <th>avg(Temperature1)</th>\n      <th>Time1</th>\n      <th>avg(Time1)</th>\n      <th>Method2</th>\n      <th>min_temp</th>\n      <th>avg(min_temp)</th>\n      <th>max_temp</th>\n      <th>avg(max_temp)</th>\n      <th>Time2</th>\n      <th>avg(Time2)</th>\n    </tr>\n  </thead>\n  <tbody>\n    <tr>\n      <th>0</th>\n      <td>P130189</td>\n      <td>247</td>\n      <td>DSC</td>\n      <td>Polycondensation</td>\n      <td>1</td>\n      <td>m-cresol</td>\n      <td>160-180</td>\n      <td>NaN</td>\n      <td>3.5</td>\n      <td>NaN</td>\n      <td>NaN</td>\n      <td>NaN</td>\n      <td>NaN</td>\n      <td>NaN</td>\n      <td>NaN</td>\n      <td>NaN</td>\n      <td>NaN</td>\n    </tr>\n    <tr>\n      <th>1</th>\n      <td>P433104</td>\n      <td>205</td>\n      <td>DSC</td>\n      <td>Polycondensation</td>\n      <td>1</td>\n      <td>NMP</td>\n      <td>105</td>\n      <td>NaN</td>\n      <td>3</td>\n      <td>NaN</td>\n      <td>NaN</td>\n      <td>NaN</td>\n      <td>NaN</td>\n      <td>NaN</td>\n      <td>NaN</td>\n      <td>NaN</td>\n      <td>NaN</td>\n    </tr>\n    <tr>\n      <th>2</th>\n      <td>P433620</td>\n      <td>134</td>\n      <td>DSC</td>\n      <td>Polycondensation</td>\n      <td>2</td>\n      <td>DMAc</td>\n      <td>0</td>\n      <td>0.0</td>\n      <td>24</td>\n      <td>24.0</td>\n      <td>3.0</td>\n      <td>100</td>\n      <td>100.0</td>\n      <td>100</td>\n      <td>100.0</td>\n      <td>4</td>\n      <td>4.0</td>\n    </tr>\n    <tr>\n      <th>3</th>\n      <td>P432353</td>\n      <td>278</td>\n      <td>DSC</td>\n      <td>Polycondensation</td>\n      <td>1</td>\n      <td>m-cresol</td>\n      <td>70-90</td>\n      <td>NaN</td>\n      <td>4</td>\n      <td>NaN</td>\n      <td>NaN</td>\n      <td>NaN</td>\n      <td>NaN</td>\n      <td>NaN</td>\n      <td>NaN</td>\n      <td>NaN</td>\n      <td>NaN</td>\n    </tr>\n    <tr>\n      <th>4</th>\n      <td>P433254</td>\n      <td>232</td>\n      <td>DSC</td>\n      <td>Polycondensation</td>\n      <td>2</td>\n      <td>NMP</td>\n      <td>RT</td>\n      <td>20.0</td>\n      <td>24</td>\n      <td>24.0</td>\n      <td>2.0</td>\n      <td>80</td>\n      <td>80.0</td>\n      <td>300</td>\n      <td>300.0</td>\n      <td>6.5</td>\n      <td>6.5</td>\n    </tr>\n    <tr>\n      <th>...</th>\n      <td>...</td>\n      <td>...</td>\n      <td>...</td>\n      <td>...</td>\n      <td>...</td>\n      <td>...</td>\n      <td>...</td>\n      <td>...</td>\n      <td>...</td>\n      <td>...</td>\n      <td>...</td>\n      <td>...</td>\n      <td>...</td>\n      <td>...</td>\n      <td>...</td>\n      <td>...</td>\n      <td>...</td>\n    </tr>\n    <tr>\n      <th>1010</th>\n      <td>P432792</td>\n      <td>210</td>\n      <td>DSC</td>\n      <td>Polycondensation</td>\n      <td>1</td>\n      <td>THF</td>\n      <td>RT</td>\n      <td>NaN</td>\n      <td>72</td>\n      <td>NaN</td>\n      <td>NaN</td>\n      <td>NaN</td>\n      <td>NaN</td>\n      <td>NaN</td>\n      <td>NaN</td>\n      <td>NaN</td>\n      <td>NaN</td>\n    </tr>\n    <tr>\n      <th>1011</th>\n      <td>P432512</td>\n      <td>175</td>\n      <td>DSC</td>\n      <td>Polycondensation</td>\n      <td>2</td>\n      <td>DMAc</td>\n      <td>RT</td>\n      <td>20.0</td>\n      <td>2</td>\n      <td>2.0</td>\n      <td>2.0</td>\n      <td>60</td>\n      <td>60.0</td>\n      <td>200</td>\n      <td>200.0</td>\n      <td>1</td>\n      <td>1.0</td>\n    </tr>\n    <tr>\n      <th>1012</th>\n      <td>P432100</td>\n      <td>265</td>\n      <td>TMA</td>\n      <td>Polycondensation</td>\n      <td>2</td>\n      <td>DMAc</td>\n      <td>RT</td>\n      <td>20.0</td>\n      <td>overnight</td>\n      <td>20.0</td>\n      <td>2.0</td>\n      <td>100</td>\n      <td>100.0</td>\n      <td>300</td>\n      <td>300.0</td>\n      <td>6</td>\n      <td>6.0</td>\n    </tr>\n    <tr>\n      <th>1013</th>\n      <td>P432502</td>\n      <td>142</td>\n      <td>DSC</td>\n      <td>Polycondensation</td>\n      <td>1</td>\n      <td>m-cresol</td>\n      <td>200</td>\n      <td>NaN</td>\n      <td>6</td>\n      <td>NaN</td>\n      <td>NaN</td>\n      <td>NaN</td>\n      <td>NaN</td>\n      <td>NaN</td>\n      <td>NaN</td>\n      <td>NaN</td>\n      <td>NaN</td>\n    </tr>\n    <tr>\n      <th>1014</th>\n      <td>P430172</td>\n      <td>216</td>\n      <td>DSC</td>\n      <td>Polycondensation</td>\n      <td>1</td>\n      <td>NMP</td>\n      <td>190</td>\n      <td>NaN</td>\n      <td>2</td>\n      <td>NaN</td>\n      <td>NaN</td>\n      <td>NaN</td>\n      <td>NaN</td>\n      <td>NaN</td>\n      <td>NaN</td>\n      <td>NaN</td>\n      <td>NaN</td>\n    </tr>\n  </tbody>\n</table>\n<p>1015 rows × 17 columns</p>\n</div>"
     },
     "execution_count": 2,
     "metadata": {},
     "output_type": "execute_result"
    }
   ],
   "source": [
    "dfRaw = pd.read_excel(os.path.join(datasetPath, excelName))\n",
    "dfRaw = dfRaw.sample(frac=1).reset_index(drop=True)           # shuffle\n",
    "dfRaw"
   ],
   "metadata": {
    "collapsed": false,
    "pycharm": {
     "name": "#%%\n"
    }
   }
  },
  {
   "cell_type": "code",
   "execution_count": 3,
   "outputs": [
    {
     "name": "stdout",
     "output_type": "stream",
     "text": [
      "num: 635\n"
     ]
    }
   ],
   "source": [
    "# 聚酰亚胺生成方法\n",
    "if method>0:\n",
    "    dfRaw = dfRaw[dfRaw['Method']==method].copy(deep=True)\n",
    "print('num:', dfRaw.shape[0])"
   ],
   "metadata": {
    "collapsed": false,
    "pycharm": {
     "name": "#%%\n"
    }
   }
  },
  {
   "cell_type": "code",
   "execution_count": 4,
   "outputs": [
    {
     "data": {
      "text/plain": "          PID   Tg Tg_Method                           Type  Method Solvent  \\\n2     P433620  134       DSC               Polycondensation       2    DMAc   \n4     P433254  232       DSC               Polycondensation       2     NMP   \n7     P130370  316       DSC  Polyaddition&Polycondensation       2    DMAc   \n9     P130002  388       DMA               Polycondensation       2    DMAc   \n10    P433175  252       DSC               Polycondensation       2    DMAc   \n...       ...  ...       ...                            ...     ...     ...   \n1003  P432320  269       DSC               Polycondensation       2    DMAc   \n1005  P074270  253       DSC  Polyaddition&Polymer reaction       2     NMP   \n1006  P130119  296       DSC               Polycondensation       2    DMAc   \n1011  P432512  175       DSC               Polycondensation       2    DMAc   \n1012  P432100  265       TMA               Polycondensation       2    DMAc   \n\n     Temperature1  avg(Temperature1)      Time1  avg(Time1)  Method2 min_temp  \\\n2               0                0.0         24        24.0      3.0      100   \n4              RT               20.0         24        24.0      2.0       80   \n7              RT               20.0          2         2.0      2.0      110   \n9              RT               20.0         24        24.0      2.0      100   \n10             RT               20.0         24        24.0      3.0      120   \n...           ...                ...        ...         ...      ...      ...   \n1003           RT               20.0         12        12.0      2.0       60   \n1005           RT               20.0         24        24.0      3.0       RT   \n1006          100              100.0          5         5.0      1.0      300   \n1011           RT               20.0          2         2.0      2.0       60   \n1012           RT               20.0  overnight        20.0      2.0      100   \n\n      avg(min_temp) max_temp  avg(max_temp) Time2  avg(Time2)  \\\n2             100.0      100          100.0     4        4.00   \n4              80.0      300          300.0   6.5        6.50   \n7             110.0      250          250.0  1.25        1.25   \n9             100.0      300          300.0     4        4.00   \n10            120.0      120          120.0     3        3.00   \n...             ...      ...            ...   ...         ...   \n1003           60.0      250          250.0   5.5        5.50   \n1005           20.0       RT           20.0     6        6.00   \n1006          300.0      300          300.0   1.5        1.50   \n1011           60.0      200          200.0     1        1.00   \n1012          100.0      300          300.0     6        6.00   \n\n                                                 SMILES  \n2     *Cc1ccc(C(C)(CCC)c2ccc(Cn3c(=O)c4cc5c(=O)n(*)c...  \n4     *c1ccc(Oc2ccc(Oc3ccc(N4C(=O)c5ccc(Oc6ccc7c(c6)...  \n7     *c1ccc(Oc2cc3ccccc3cc2Oc2ccc(-n3c(=O)c4cc5c(=O...  \n9     *c1ccc(Oc2ccc(-n3c(=O)c4cc5c(=O)n(*)c(=O)c5cc4...  \n10    *c1ccc(N(c2ccc(C#N)cc2)c2ccc(-n3c(=O)c4cc5c(=O...  \n...                                                 ...  \n1003  *C(=O)c1cc(C(=O)c2ccc3c(c2)C(=O)N(c2cccc(N4C(=...  \n1005  *c1ccc(C(C)(C)c2ccc(C(C)(C)c3ccc(N4C(=O)c5ccc(...  \n1006  *c1ccc2c(c1)C(=O)N(c1ccc(Oc3ccc(N4C(=O)c5ccc(C...  \n1011  *c1cccc(OCCCCOc2cccc(N3C(=O)c4ccc(-c5ccc6c(c5)...  \n1012  *c1ccc(C(C)(C)c2ccc(N3C(=O)c4ccc(Oc5ccc6c(c5)C...  \n\n[635 rows x 18 columns]",
      "text/html": "<div>\n<style scoped>\n    .dataframe tbody tr th:only-of-type {\n        vertical-align: middle;\n    }\n\n    .dataframe tbody tr th {\n        vertical-align: top;\n    }\n\n    .dataframe thead th {\n        text-align: right;\n    }\n</style>\n<table border=\"1\" class=\"dataframe\">\n  <thead>\n    <tr style=\"text-align: right;\">\n      <th></th>\n      <th>PID</th>\n      <th>Tg</th>\n      <th>Tg_Method</th>\n      <th>Type</th>\n      <th>Method</th>\n      <th>Solvent</th>\n      <th>Temperature1</th>\n      <th>avg(Temperature1)</th>\n      <th>Time1</th>\n      <th>avg(Time1)</th>\n      <th>Method2</th>\n      <th>min_temp</th>\n      <th>avg(min_temp)</th>\n      <th>max_temp</th>\n      <th>avg(max_temp)</th>\n      <th>Time2</th>\n      <th>avg(Time2)</th>\n      <th>SMILES</th>\n    </tr>\n  </thead>\n  <tbody>\n    <tr>\n      <th>2</th>\n      <td>P433620</td>\n      <td>134</td>\n      <td>DSC</td>\n      <td>Polycondensation</td>\n      <td>2</td>\n      <td>DMAc</td>\n      <td>0</td>\n      <td>0.0</td>\n      <td>24</td>\n      <td>24.0</td>\n      <td>3.0</td>\n      <td>100</td>\n      <td>100.0</td>\n      <td>100</td>\n      <td>100.0</td>\n      <td>4</td>\n      <td>4.00</td>\n      <td>*Cc1ccc(C(C)(CCC)c2ccc(Cn3c(=O)c4cc5c(=O)n(*)c...</td>\n    </tr>\n    <tr>\n      <th>4</th>\n      <td>P433254</td>\n      <td>232</td>\n      <td>DSC</td>\n      <td>Polycondensation</td>\n      <td>2</td>\n      <td>NMP</td>\n      <td>RT</td>\n      <td>20.0</td>\n      <td>24</td>\n      <td>24.0</td>\n      <td>2.0</td>\n      <td>80</td>\n      <td>80.0</td>\n      <td>300</td>\n      <td>300.0</td>\n      <td>6.5</td>\n      <td>6.50</td>\n      <td>*c1ccc(Oc2ccc(Oc3ccc(N4C(=O)c5ccc(Oc6ccc7c(c6)...</td>\n    </tr>\n    <tr>\n      <th>7</th>\n      <td>P130370</td>\n      <td>316</td>\n      <td>DSC</td>\n      <td>Polyaddition&amp;Polycondensation</td>\n      <td>2</td>\n      <td>DMAc</td>\n      <td>RT</td>\n      <td>20.0</td>\n      <td>2</td>\n      <td>2.0</td>\n      <td>2.0</td>\n      <td>110</td>\n      <td>110.0</td>\n      <td>250</td>\n      <td>250.0</td>\n      <td>1.25</td>\n      <td>1.25</td>\n      <td>*c1ccc(Oc2cc3ccccc3cc2Oc2ccc(-n3c(=O)c4cc5c(=O...</td>\n    </tr>\n    <tr>\n      <th>9</th>\n      <td>P130002</td>\n      <td>388</td>\n      <td>DMA</td>\n      <td>Polycondensation</td>\n      <td>2</td>\n      <td>DMAc</td>\n      <td>RT</td>\n      <td>20.0</td>\n      <td>24</td>\n      <td>24.0</td>\n      <td>2.0</td>\n      <td>100</td>\n      <td>100.0</td>\n      <td>300</td>\n      <td>300.0</td>\n      <td>4</td>\n      <td>4.00</td>\n      <td>*c1ccc(Oc2ccc(-n3c(=O)c4cc5c(=O)n(*)c(=O)c5cc4...</td>\n    </tr>\n    <tr>\n      <th>10</th>\n      <td>P433175</td>\n      <td>252</td>\n      <td>DSC</td>\n      <td>Polycondensation</td>\n      <td>2</td>\n      <td>DMAc</td>\n      <td>RT</td>\n      <td>20.0</td>\n      <td>24</td>\n      <td>24.0</td>\n      <td>3.0</td>\n      <td>120</td>\n      <td>120.0</td>\n      <td>120</td>\n      <td>120.0</td>\n      <td>3</td>\n      <td>3.00</td>\n      <td>*c1ccc(N(c2ccc(C#N)cc2)c2ccc(-n3c(=O)c4cc5c(=O...</td>\n    </tr>\n    <tr>\n      <th>...</th>\n      <td>...</td>\n      <td>...</td>\n      <td>...</td>\n      <td>...</td>\n      <td>...</td>\n      <td>...</td>\n      <td>...</td>\n      <td>...</td>\n      <td>...</td>\n      <td>...</td>\n      <td>...</td>\n      <td>...</td>\n      <td>...</td>\n      <td>...</td>\n      <td>...</td>\n      <td>...</td>\n      <td>...</td>\n      <td>...</td>\n    </tr>\n    <tr>\n      <th>1003</th>\n      <td>P432320</td>\n      <td>269</td>\n      <td>DSC</td>\n      <td>Polycondensation</td>\n      <td>2</td>\n      <td>DMAc</td>\n      <td>RT</td>\n      <td>20.0</td>\n      <td>12</td>\n      <td>12.0</td>\n      <td>2.0</td>\n      <td>60</td>\n      <td>60.0</td>\n      <td>250</td>\n      <td>250.0</td>\n      <td>5.5</td>\n      <td>5.50</td>\n      <td>*C(=O)c1cc(C(=O)c2ccc3c(c2)C(=O)N(c2cccc(N4C(=...</td>\n    </tr>\n    <tr>\n      <th>1005</th>\n      <td>P074270</td>\n      <td>253</td>\n      <td>DSC</td>\n      <td>Polyaddition&amp;Polymer reaction</td>\n      <td>2</td>\n      <td>NMP</td>\n      <td>RT</td>\n      <td>20.0</td>\n      <td>24</td>\n      <td>24.0</td>\n      <td>3.0</td>\n      <td>RT</td>\n      <td>20.0</td>\n      <td>RT</td>\n      <td>20.0</td>\n      <td>6</td>\n      <td>6.00</td>\n      <td>*c1ccc(C(C)(C)c2ccc(C(C)(C)c3ccc(N4C(=O)c5ccc(...</td>\n    </tr>\n    <tr>\n      <th>1006</th>\n      <td>P130119</td>\n      <td>296</td>\n      <td>DSC</td>\n      <td>Polycondensation</td>\n      <td>2</td>\n      <td>DMAc</td>\n      <td>100</td>\n      <td>100.0</td>\n      <td>5</td>\n      <td>5.0</td>\n      <td>1.0</td>\n      <td>300</td>\n      <td>300.0</td>\n      <td>300</td>\n      <td>300.0</td>\n      <td>1.5</td>\n      <td>1.50</td>\n      <td>*c1ccc2c(c1)C(=O)N(c1ccc(Oc3ccc(N4C(=O)c5ccc(C...</td>\n    </tr>\n    <tr>\n      <th>1011</th>\n      <td>P432512</td>\n      <td>175</td>\n      <td>DSC</td>\n      <td>Polycondensation</td>\n      <td>2</td>\n      <td>DMAc</td>\n      <td>RT</td>\n      <td>20.0</td>\n      <td>2</td>\n      <td>2.0</td>\n      <td>2.0</td>\n      <td>60</td>\n      <td>60.0</td>\n      <td>200</td>\n      <td>200.0</td>\n      <td>1</td>\n      <td>1.00</td>\n      <td>*c1cccc(OCCCCOc2cccc(N3C(=O)c4ccc(-c5ccc6c(c5)...</td>\n    </tr>\n    <tr>\n      <th>1012</th>\n      <td>P432100</td>\n      <td>265</td>\n      <td>TMA</td>\n      <td>Polycondensation</td>\n      <td>2</td>\n      <td>DMAc</td>\n      <td>RT</td>\n      <td>20.0</td>\n      <td>overnight</td>\n      <td>20.0</td>\n      <td>2.0</td>\n      <td>100</td>\n      <td>100.0</td>\n      <td>300</td>\n      <td>300.0</td>\n      <td>6</td>\n      <td>6.00</td>\n      <td>*c1ccc(C(C)(C)c2ccc(N3C(=O)c4ccc(Oc5ccc6c(c5)C...</td>\n    </tr>\n  </tbody>\n</table>\n<p>635 rows × 18 columns</p>\n</div>"
     },
     "execution_count": 4,
     "metadata": {},
     "output_type": "execute_result"
    }
   ],
   "source": [
    "# PID to smiles\n",
    "def getSmiles(pid):\n",
    "    mol = Chem.MolFromMolFile(os.path.join(datasetPath, 'Mol', pid+'.mol'))\n",
    "    return Chem.MolToSmiles(mol)\n",
    "dfRaw['SMILES'] = dfRaw.apply(lambda x:getSmiles(x['PID']), axis=1)\n",
    "dfRaw"
   ],
   "metadata": {
    "collapsed": false,
    "pycharm": {
     "name": "#%%\n"
    }
   }
  },
  {
   "cell_type": "code",
   "execution_count": 5,
   "outputs": [],
   "source": [
    "dfRaw = dfRaw[dfRaw['Tg']<500]"
   ],
   "metadata": {
    "collapsed": false,
    "pycharm": {
     "name": "#%%\n"
    }
   }
  },
  {
   "cell_type": "code",
   "execution_count": 6,
   "outputs": [
    {
     "data": {
      "text/plain": "       Tg Solvent  avg(Temperature1)  avg(Time1)  Method2  avg(min_temp)  \\\n2     134    DMAc                0.0        24.0      3.0          100.0   \n4     232     NMP               20.0        24.0      2.0           80.0   \n7     316    DMAc               20.0         2.0      2.0          110.0   \n9     388    DMAc               20.0        24.0      2.0          100.0   \n10    252    DMAc               20.0        24.0      3.0          120.0   \n...   ...     ...                ...         ...      ...            ...   \n1003  269    DMAc               20.0        12.0      2.0           60.0   \n1005  253     NMP               20.0        24.0      3.0           20.0   \n1006  296    DMAc              100.0         5.0      1.0          300.0   \n1011  175    DMAc               20.0         2.0      2.0           60.0   \n1012  265    DMAc               20.0        20.0      2.0          100.0   \n\n      avg(max_temp)  avg(Time2)  \\\n2             100.0        4.00   \n4             300.0        6.50   \n7             250.0        1.25   \n9             300.0        4.00   \n10            120.0        3.00   \n...             ...         ...   \n1003          250.0        5.50   \n1005           20.0        6.00   \n1006          300.0        1.50   \n1011          200.0        1.00   \n1012          300.0        6.00   \n\n                                                 SMILES  \n2     *Cc1ccc(C(C)(CCC)c2ccc(Cn3c(=O)c4cc5c(=O)n(*)c...  \n4     *c1ccc(Oc2ccc(Oc3ccc(N4C(=O)c5ccc(Oc6ccc7c(c6)...  \n7     *c1ccc(Oc2cc3ccccc3cc2Oc2ccc(-n3c(=O)c4cc5c(=O...  \n9     *c1ccc(Oc2ccc(-n3c(=O)c4cc5c(=O)n(*)c(=O)c5cc4...  \n10    *c1ccc(N(c2ccc(C#N)cc2)c2ccc(-n3c(=O)c4cc5c(=O...  \n...                                                 ...  \n1003  *C(=O)c1cc(C(=O)c2ccc3c(c2)C(=O)N(c2cccc(N4C(=...  \n1005  *c1ccc(C(C)(C)c2ccc(C(C)(C)c3ccc(N4C(=O)c5ccc(...  \n1006  *c1ccc2c(c1)C(=O)N(c1ccc(Oc3ccc(N4C(=O)c5ccc(C...  \n1011  *c1cccc(OCCCCOc2cccc(N3C(=O)c4ccc(-c5ccc6c(c5)...  \n1012  *c1ccc(C(C)(C)c2ccc(N3C(=O)c4ccc(Oc5ccc6c(c5)C...  \n\n[634 rows x 9 columns]",
      "text/html": "<div>\n<style scoped>\n    .dataframe tbody tr th:only-of-type {\n        vertical-align: middle;\n    }\n\n    .dataframe tbody tr th {\n        vertical-align: top;\n    }\n\n    .dataframe thead th {\n        text-align: right;\n    }\n</style>\n<table border=\"1\" class=\"dataframe\">\n  <thead>\n    <tr style=\"text-align: right;\">\n      <th></th>\n      <th>Tg</th>\n      <th>Solvent</th>\n      <th>avg(Temperature1)</th>\n      <th>avg(Time1)</th>\n      <th>Method2</th>\n      <th>avg(min_temp)</th>\n      <th>avg(max_temp)</th>\n      <th>avg(Time2)</th>\n      <th>SMILES</th>\n    </tr>\n  </thead>\n  <tbody>\n    <tr>\n      <th>2</th>\n      <td>134</td>\n      <td>DMAc</td>\n      <td>0.0</td>\n      <td>24.0</td>\n      <td>3.0</td>\n      <td>100.0</td>\n      <td>100.0</td>\n      <td>4.00</td>\n      <td>*Cc1ccc(C(C)(CCC)c2ccc(Cn3c(=O)c4cc5c(=O)n(*)c...</td>\n    </tr>\n    <tr>\n      <th>4</th>\n      <td>232</td>\n      <td>NMP</td>\n      <td>20.0</td>\n      <td>24.0</td>\n      <td>2.0</td>\n      <td>80.0</td>\n      <td>300.0</td>\n      <td>6.50</td>\n      <td>*c1ccc(Oc2ccc(Oc3ccc(N4C(=O)c5ccc(Oc6ccc7c(c6)...</td>\n    </tr>\n    <tr>\n      <th>7</th>\n      <td>316</td>\n      <td>DMAc</td>\n      <td>20.0</td>\n      <td>2.0</td>\n      <td>2.0</td>\n      <td>110.0</td>\n      <td>250.0</td>\n      <td>1.25</td>\n      <td>*c1ccc(Oc2cc3ccccc3cc2Oc2ccc(-n3c(=O)c4cc5c(=O...</td>\n    </tr>\n    <tr>\n      <th>9</th>\n      <td>388</td>\n      <td>DMAc</td>\n      <td>20.0</td>\n      <td>24.0</td>\n      <td>2.0</td>\n      <td>100.0</td>\n      <td>300.0</td>\n      <td>4.00</td>\n      <td>*c1ccc(Oc2ccc(-n3c(=O)c4cc5c(=O)n(*)c(=O)c5cc4...</td>\n    </tr>\n    <tr>\n      <th>10</th>\n      <td>252</td>\n      <td>DMAc</td>\n      <td>20.0</td>\n      <td>24.0</td>\n      <td>3.0</td>\n      <td>120.0</td>\n      <td>120.0</td>\n      <td>3.00</td>\n      <td>*c1ccc(N(c2ccc(C#N)cc2)c2ccc(-n3c(=O)c4cc5c(=O...</td>\n    </tr>\n    <tr>\n      <th>...</th>\n      <td>...</td>\n      <td>...</td>\n      <td>...</td>\n      <td>...</td>\n      <td>...</td>\n      <td>...</td>\n      <td>...</td>\n      <td>...</td>\n      <td>...</td>\n    </tr>\n    <tr>\n      <th>1003</th>\n      <td>269</td>\n      <td>DMAc</td>\n      <td>20.0</td>\n      <td>12.0</td>\n      <td>2.0</td>\n      <td>60.0</td>\n      <td>250.0</td>\n      <td>5.50</td>\n      <td>*C(=O)c1cc(C(=O)c2ccc3c(c2)C(=O)N(c2cccc(N4C(=...</td>\n    </tr>\n    <tr>\n      <th>1005</th>\n      <td>253</td>\n      <td>NMP</td>\n      <td>20.0</td>\n      <td>24.0</td>\n      <td>3.0</td>\n      <td>20.0</td>\n      <td>20.0</td>\n      <td>6.00</td>\n      <td>*c1ccc(C(C)(C)c2ccc(C(C)(C)c3ccc(N4C(=O)c5ccc(...</td>\n    </tr>\n    <tr>\n      <th>1006</th>\n      <td>296</td>\n      <td>DMAc</td>\n      <td>100.0</td>\n      <td>5.0</td>\n      <td>1.0</td>\n      <td>300.0</td>\n      <td>300.0</td>\n      <td>1.50</td>\n      <td>*c1ccc2c(c1)C(=O)N(c1ccc(Oc3ccc(N4C(=O)c5ccc(C...</td>\n    </tr>\n    <tr>\n      <th>1011</th>\n      <td>175</td>\n      <td>DMAc</td>\n      <td>20.0</td>\n      <td>2.0</td>\n      <td>2.0</td>\n      <td>60.0</td>\n      <td>200.0</td>\n      <td>1.00</td>\n      <td>*c1cccc(OCCCCOc2cccc(N3C(=O)c4ccc(-c5ccc6c(c5)...</td>\n    </tr>\n    <tr>\n      <th>1012</th>\n      <td>265</td>\n      <td>DMAc</td>\n      <td>20.0</td>\n      <td>20.0</td>\n      <td>2.0</td>\n      <td>100.0</td>\n      <td>300.0</td>\n      <td>6.00</td>\n      <td>*c1ccc(C(C)(C)c2ccc(N3C(=O)c4ccc(Oc5ccc6c(c5)C...</td>\n    </tr>\n  </tbody>\n</table>\n<p>634 rows × 9 columns</p>\n</div>"
     },
     "execution_count": 6,
     "metadata": {},
     "output_type": "execute_result"
    }
   ],
   "source": [
    "df = dfRaw.copy(deep=True)\n",
    "df.drop(['PID', 'Tg_Method', 'Type', 'Method', 'Temperature1', 'Time1', 'min_temp', 'max_temp', 'Time2'], axis=1, inplace=True)\n",
    "df"
   ],
   "metadata": {
    "collapsed": false,
    "pycharm": {
     "name": "#%%\n"
    }
   }
  },
  {
   "cell_type": "code",
   "execution_count": 7,
   "outputs": [
    {
     "data": {
      "text/plain": "                                                 SMILES Solvent  temperature1  \\\n2     *Cc1ccc(C(C)(CCC)c2ccc(Cn3c(=O)c4cc5c(=O)n(*)c...    DMAc           0.0   \n4     *c1ccc(Oc2ccc(Oc3ccc(N4C(=O)c5ccc(Oc6ccc7c(c6)...     NMP          20.0   \n7     *c1ccc(Oc2cc3ccccc3cc2Oc2ccc(-n3c(=O)c4cc5c(=O...    DMAc          20.0   \n9     *c1ccc(Oc2ccc(-n3c(=O)c4cc5c(=O)n(*)c(=O)c5cc4...    DMAc          20.0   \n10    *c1ccc(N(c2ccc(C#N)cc2)c2ccc(-n3c(=O)c4cc5c(=O...    DMAc          20.0   \n...                                                 ...     ...           ...   \n1003  *C(=O)c1cc(C(=O)c2ccc3c(c2)C(=O)N(c2cccc(N4C(=...    DMAc          20.0   \n1005  *c1ccc(C(C)(C)c2ccc(C(C)(C)c3ccc(N4C(=O)c5ccc(...     NMP          20.0   \n1006  *c1ccc2c(c1)C(=O)N(c1ccc(Oc3ccc(N4C(=O)c5ccc(C...    DMAc         100.0   \n1011  *c1cccc(OCCCCOc2cccc(N3C(=O)c4ccc(-c5ccc6c(c5)...    DMAc          20.0   \n1012  *c1ccc(C(C)(C)c2ccc(N3C(=O)c4ccc(Oc5ccc6c(c5)C...    DMAc          20.0   \n\n      time1  method2  minTemp  maxTemp  time2   Tg  \n2      24.0      3.0    100.0    100.0   4.00  134  \n4      24.0      2.0     80.0    300.0   6.50  232  \n7       2.0      2.0    110.0    250.0   1.25  316  \n9      24.0      2.0    100.0    300.0   4.00  388  \n10     24.0      3.0    120.0    120.0   3.00  252  \n...     ...      ...      ...      ...    ...  ...  \n1003   12.0      2.0     60.0    250.0   5.50  269  \n1005   24.0      3.0     20.0     20.0   6.00  253  \n1006    5.0      1.0    300.0    300.0   1.50  296  \n1011    2.0      2.0     60.0    200.0   1.00  175  \n1012   20.0      2.0    100.0    300.0   6.00  265  \n\n[634 rows x 9 columns]",
      "text/html": "<div>\n<style scoped>\n    .dataframe tbody tr th:only-of-type {\n        vertical-align: middle;\n    }\n\n    .dataframe tbody tr th {\n        vertical-align: top;\n    }\n\n    .dataframe thead th {\n        text-align: right;\n    }\n</style>\n<table border=\"1\" class=\"dataframe\">\n  <thead>\n    <tr style=\"text-align: right;\">\n      <th></th>\n      <th>SMILES</th>\n      <th>Solvent</th>\n      <th>temperature1</th>\n      <th>time1</th>\n      <th>method2</th>\n      <th>minTemp</th>\n      <th>maxTemp</th>\n      <th>time2</th>\n      <th>Tg</th>\n    </tr>\n  </thead>\n  <tbody>\n    <tr>\n      <th>2</th>\n      <td>*Cc1ccc(C(C)(CCC)c2ccc(Cn3c(=O)c4cc5c(=O)n(*)c...</td>\n      <td>DMAc</td>\n      <td>0.0</td>\n      <td>24.0</td>\n      <td>3.0</td>\n      <td>100.0</td>\n      <td>100.0</td>\n      <td>4.00</td>\n      <td>134</td>\n    </tr>\n    <tr>\n      <th>4</th>\n      <td>*c1ccc(Oc2ccc(Oc3ccc(N4C(=O)c5ccc(Oc6ccc7c(c6)...</td>\n      <td>NMP</td>\n      <td>20.0</td>\n      <td>24.0</td>\n      <td>2.0</td>\n      <td>80.0</td>\n      <td>300.0</td>\n      <td>6.50</td>\n      <td>232</td>\n    </tr>\n    <tr>\n      <th>7</th>\n      <td>*c1ccc(Oc2cc3ccccc3cc2Oc2ccc(-n3c(=O)c4cc5c(=O...</td>\n      <td>DMAc</td>\n      <td>20.0</td>\n      <td>2.0</td>\n      <td>2.0</td>\n      <td>110.0</td>\n      <td>250.0</td>\n      <td>1.25</td>\n      <td>316</td>\n    </tr>\n    <tr>\n      <th>9</th>\n      <td>*c1ccc(Oc2ccc(-n3c(=O)c4cc5c(=O)n(*)c(=O)c5cc4...</td>\n      <td>DMAc</td>\n      <td>20.0</td>\n      <td>24.0</td>\n      <td>2.0</td>\n      <td>100.0</td>\n      <td>300.0</td>\n      <td>4.00</td>\n      <td>388</td>\n    </tr>\n    <tr>\n      <th>10</th>\n      <td>*c1ccc(N(c2ccc(C#N)cc2)c2ccc(-n3c(=O)c4cc5c(=O...</td>\n      <td>DMAc</td>\n      <td>20.0</td>\n      <td>24.0</td>\n      <td>3.0</td>\n      <td>120.0</td>\n      <td>120.0</td>\n      <td>3.00</td>\n      <td>252</td>\n    </tr>\n    <tr>\n      <th>...</th>\n      <td>...</td>\n      <td>...</td>\n      <td>...</td>\n      <td>...</td>\n      <td>...</td>\n      <td>...</td>\n      <td>...</td>\n      <td>...</td>\n      <td>...</td>\n    </tr>\n    <tr>\n      <th>1003</th>\n      <td>*C(=O)c1cc(C(=O)c2ccc3c(c2)C(=O)N(c2cccc(N4C(=...</td>\n      <td>DMAc</td>\n      <td>20.0</td>\n      <td>12.0</td>\n      <td>2.0</td>\n      <td>60.0</td>\n      <td>250.0</td>\n      <td>5.50</td>\n      <td>269</td>\n    </tr>\n    <tr>\n      <th>1005</th>\n      <td>*c1ccc(C(C)(C)c2ccc(C(C)(C)c3ccc(N4C(=O)c5ccc(...</td>\n      <td>NMP</td>\n      <td>20.0</td>\n      <td>24.0</td>\n      <td>3.0</td>\n      <td>20.0</td>\n      <td>20.0</td>\n      <td>6.00</td>\n      <td>253</td>\n    </tr>\n    <tr>\n      <th>1006</th>\n      <td>*c1ccc2c(c1)C(=O)N(c1ccc(Oc3ccc(N4C(=O)c5ccc(C...</td>\n      <td>DMAc</td>\n      <td>100.0</td>\n      <td>5.0</td>\n      <td>1.0</td>\n      <td>300.0</td>\n      <td>300.0</td>\n      <td>1.50</td>\n      <td>296</td>\n    </tr>\n    <tr>\n      <th>1011</th>\n      <td>*c1cccc(OCCCCOc2cccc(N3C(=O)c4ccc(-c5ccc6c(c5)...</td>\n      <td>DMAc</td>\n      <td>20.0</td>\n      <td>2.0</td>\n      <td>2.0</td>\n      <td>60.0</td>\n      <td>200.0</td>\n      <td>1.00</td>\n      <td>175</td>\n    </tr>\n    <tr>\n      <th>1012</th>\n      <td>*c1ccc(C(C)(C)c2ccc(N3C(=O)c4ccc(Oc5ccc6c(c5)C...</td>\n      <td>DMAc</td>\n      <td>20.0</td>\n      <td>20.0</td>\n      <td>2.0</td>\n      <td>100.0</td>\n      <td>300.0</td>\n      <td>6.00</td>\n      <td>265</td>\n    </tr>\n  </tbody>\n</table>\n<p>634 rows × 9 columns</p>\n</div>"
     },
     "execution_count": 7,
     "metadata": {},
     "output_type": "execute_result"
    }
   ],
   "source": [
    "df.rename({'avg(Temperature1)': 'temperature1',\n",
    "           'avg(Time1)': 'time1',\n",
    "           'Method2': 'method2',\n",
    "           'avg(min_temp)': 'minTemp',\n",
    "           'avg(max_temp)': 'maxTemp',\n",
    "           'avg(Time2)': 'time2'}, axis=1, inplace=True)\n",
    "order = ['SMILES', 'Solvent', 'temperature1', 'time1',\n",
    "         'method2', 'minTemp', 'maxTemp', 'time2', 'Tg']\n",
    "df = df[order]\n",
    "df"
   ],
   "metadata": {
    "collapsed": false,
    "pycharm": {
     "name": "#%%\n"
    }
   }
  },
  {
   "cell_type": "code",
   "execution_count": 8,
   "outputs": [],
   "source": [
    "df.to_csv(os.path.join(datasetPath, csvName), encoding='utf8', index=False)"
   ],
   "metadata": {
    "collapsed": false,
    "pycharm": {
     "name": "#%%\n"
    }
   }
  },
  {
   "cell_type": "code",
   "execution_count": 2,
   "outputs": [
    {
     "data": {
      "text/plain": "                                                SMILES Solvent  temperature1  \\\n0    *Cc1ccc(C(C)(CCC)c2ccc(Cn3c(=O)c4cc5c(=O)n(*)c...    DMAc           0.0   \n1    *c1ccc(Oc2ccc(Oc3ccc(N4C(=O)c5ccc(Oc6ccc7c(c6)...     NMP          20.0   \n2    *c1ccc(Oc2cc3ccccc3cc2Oc2ccc(-n3c(=O)c4cc5c(=O...    DMAc          20.0   \n3    *c1ccc(Oc2ccc(-n3c(=O)c4cc5c(=O)n(*)c(=O)c5cc4...    DMAc          20.0   \n4    *c1ccc(N(c2ccc(C#N)cc2)c2ccc(-n3c(=O)c4cc5c(=O...    DMAc          20.0   \n..                                                 ...     ...           ...   \n619  *C(=O)c1cc(C(=O)c2ccc3c(c2)C(=O)N(c2cccc(N4C(=...    DMAc          20.0   \n620  *c1ccc(C(C)(C)c2ccc(C(C)(C)c3ccc(N4C(=O)c5ccc(...     NMP          20.0   \n621  *c1ccc2c(c1)C(=O)N(c1ccc(Oc3ccc(N4C(=O)c5ccc(C...    DMAc         100.0   \n622  *c1cccc(OCCCCOc2cccc(N3C(=O)c4ccc(-c5ccc6c(c5)...    DMAc          20.0   \n623  *c1ccc(C(C)(C)c2ccc(N3C(=O)c4ccc(Oc5ccc6c(c5)C...    DMAc          20.0   \n\n     time1  method2  minTemp  maxTemp  time2   Tg  \n0     24.0      3.0    100.0    100.0   4.00  134  \n1     24.0      2.0     80.0    300.0   6.50  232  \n2      2.0      2.0    110.0    250.0   1.25  316  \n3     24.0      2.0    100.0    300.0   4.00  388  \n4     24.0      3.0    120.0    120.0   3.00  252  \n..     ...      ...      ...      ...    ...  ...  \n619   12.0      2.0     60.0    250.0   5.50  269  \n620   24.0      3.0     20.0     20.0   6.00  253  \n621    5.0      1.0    300.0    300.0   1.50  296  \n622    2.0      2.0     60.0    200.0   1.00  175  \n623   20.0      2.0    100.0    300.0   6.00  265  \n\n[624 rows x 9 columns]",
      "text/html": "<div>\n<style scoped>\n    .dataframe tbody tr th:only-of-type {\n        vertical-align: middle;\n    }\n\n    .dataframe tbody tr th {\n        vertical-align: top;\n    }\n\n    .dataframe thead th {\n        text-align: right;\n    }\n</style>\n<table border=\"1\" class=\"dataframe\">\n  <thead>\n    <tr style=\"text-align: right;\">\n      <th></th>\n      <th>SMILES</th>\n      <th>Solvent</th>\n      <th>temperature1</th>\n      <th>time1</th>\n      <th>method2</th>\n      <th>minTemp</th>\n      <th>maxTemp</th>\n      <th>time2</th>\n      <th>Tg</th>\n    </tr>\n  </thead>\n  <tbody>\n    <tr>\n      <th>0</th>\n      <td>*Cc1ccc(C(C)(CCC)c2ccc(Cn3c(=O)c4cc5c(=O)n(*)c...</td>\n      <td>DMAc</td>\n      <td>0.0</td>\n      <td>24.0</td>\n      <td>3.0</td>\n      <td>100.0</td>\n      <td>100.0</td>\n      <td>4.00</td>\n      <td>134</td>\n    </tr>\n    <tr>\n      <th>1</th>\n      <td>*c1ccc(Oc2ccc(Oc3ccc(N4C(=O)c5ccc(Oc6ccc7c(c6)...</td>\n      <td>NMP</td>\n      <td>20.0</td>\n      <td>24.0</td>\n      <td>2.0</td>\n      <td>80.0</td>\n      <td>300.0</td>\n      <td>6.50</td>\n      <td>232</td>\n    </tr>\n    <tr>\n      <th>2</th>\n      <td>*c1ccc(Oc2cc3ccccc3cc2Oc2ccc(-n3c(=O)c4cc5c(=O...</td>\n      <td>DMAc</td>\n      <td>20.0</td>\n      <td>2.0</td>\n      <td>2.0</td>\n      <td>110.0</td>\n      <td>250.0</td>\n      <td>1.25</td>\n      <td>316</td>\n    </tr>\n    <tr>\n      <th>3</th>\n      <td>*c1ccc(Oc2ccc(-n3c(=O)c4cc5c(=O)n(*)c(=O)c5cc4...</td>\n      <td>DMAc</td>\n      <td>20.0</td>\n      <td>24.0</td>\n      <td>2.0</td>\n      <td>100.0</td>\n      <td>300.0</td>\n      <td>4.00</td>\n      <td>388</td>\n    </tr>\n    <tr>\n      <th>4</th>\n      <td>*c1ccc(N(c2ccc(C#N)cc2)c2ccc(-n3c(=O)c4cc5c(=O...</td>\n      <td>DMAc</td>\n      <td>20.0</td>\n      <td>24.0</td>\n      <td>3.0</td>\n      <td>120.0</td>\n      <td>120.0</td>\n      <td>3.00</td>\n      <td>252</td>\n    </tr>\n    <tr>\n      <th>...</th>\n      <td>...</td>\n      <td>...</td>\n      <td>...</td>\n      <td>...</td>\n      <td>...</td>\n      <td>...</td>\n      <td>...</td>\n      <td>...</td>\n      <td>...</td>\n    </tr>\n    <tr>\n      <th>619</th>\n      <td>*C(=O)c1cc(C(=O)c2ccc3c(c2)C(=O)N(c2cccc(N4C(=...</td>\n      <td>DMAc</td>\n      <td>20.0</td>\n      <td>12.0</td>\n      <td>2.0</td>\n      <td>60.0</td>\n      <td>250.0</td>\n      <td>5.50</td>\n      <td>269</td>\n    </tr>\n    <tr>\n      <th>620</th>\n      <td>*c1ccc(C(C)(C)c2ccc(C(C)(C)c3ccc(N4C(=O)c5ccc(...</td>\n      <td>NMP</td>\n      <td>20.0</td>\n      <td>24.0</td>\n      <td>3.0</td>\n      <td>20.0</td>\n      <td>20.0</td>\n      <td>6.00</td>\n      <td>253</td>\n    </tr>\n    <tr>\n      <th>621</th>\n      <td>*c1ccc2c(c1)C(=O)N(c1ccc(Oc3ccc(N4C(=O)c5ccc(C...</td>\n      <td>DMAc</td>\n      <td>100.0</td>\n      <td>5.0</td>\n      <td>1.0</td>\n      <td>300.0</td>\n      <td>300.0</td>\n      <td>1.50</td>\n      <td>296</td>\n    </tr>\n    <tr>\n      <th>622</th>\n      <td>*c1cccc(OCCCCOc2cccc(N3C(=O)c4ccc(-c5ccc6c(c5)...</td>\n      <td>DMAc</td>\n      <td>20.0</td>\n      <td>2.0</td>\n      <td>2.0</td>\n      <td>60.0</td>\n      <td>200.0</td>\n      <td>1.00</td>\n      <td>175</td>\n    </tr>\n    <tr>\n      <th>623</th>\n      <td>*c1ccc(C(C)(C)c2ccc(N3C(=O)c4ccc(Oc5ccc6c(c5)C...</td>\n      <td>DMAc</td>\n      <td>20.0</td>\n      <td>20.0</td>\n      <td>2.0</td>\n      <td>100.0</td>\n      <td>300.0</td>\n      <td>6.00</td>\n      <td>265</td>\n    </tr>\n  </tbody>\n</table>\n<p>624 rows × 9 columns</p>\n</div>"
     },
     "execution_count": 2,
     "metadata": {},
     "output_type": "execute_result"
    }
   ],
   "source": [
    "import pandas as pd\n",
    "import os\n",
    "\n",
    "df = pd.read_csv(os.path.join('./dataset', 'dataMethod2Deleted.csv'))\n",
    "df"
   ],
   "metadata": {
    "collapsed": false,
    "pycharm": {
     "name": "#%%\n"
    }
   }
  },
  {
   "cell_type": "code",
   "execution_count": 3,
   "outputs": [
    {
     "data": {
      "text/plain": "                                                SMILES Solvent  temperature1  \\\n0    *Cc1ccc(C(C)(CCC)c2ccc(Cn3c(=O)c4cc5c(=O)n(*)c...    DMAc           0.0   \n1    *c1ccc(Oc2ccc(Oc3ccc(N4C(=O)c5ccc(Oc6ccc7c(c6)...     NMP          20.0   \n2    *c1ccc(Oc2cc3ccccc3cc2Oc2ccc(-n3c(=O)c4cc5c(=O...    DMAc          20.0   \n3    *c1ccc(Oc2ccc(-n3c(=O)c4cc5c(=O)n(*)c(=O)c5cc4...    DMAc          20.0   \n4    *c1ccc(N(c2ccc(C#N)cc2)c2ccc(-n3c(=O)c4cc5c(=O...    DMAc          20.0   \n..                                                 ...     ...           ...   \n617  *c1ccc(Oc2ccc(N3C(=O)c4cccc(Oc5c(Oc6cccc7c6C(=...     NMP          20.0   \n618  *c1ccc(Cc2cccc(-n3c(=O)c4cc5c(=O)n(*)c(=O)c5cc...    DMAc          20.0   \n620  *c1ccc(C(C)(C)c2ccc(C(C)(C)c3ccc(N4C(=O)c5ccc(...     NMP          20.0   \n622  *c1cccc(OCCCCOc2cccc(N3C(=O)c4ccc(-c5ccc6c(c5)...    DMAc          20.0   \n623  *c1ccc(C(C)(C)c2ccc(N3C(=O)c4ccc(Oc5ccc6c(c5)C...    DMAc          20.0   \n\n     time1  method2  minTemp  maxTemp  time2   Tg  \n0     24.0      3.0    100.0    100.0   4.00  134  \n1     24.0      2.0     80.0    300.0   6.50  232  \n2      2.0      2.0    110.0    250.0   1.25  316  \n3     24.0      2.0    100.0    300.0   4.00  388  \n4     24.0      3.0    120.0    120.0   3.00  252  \n..     ...      ...      ...      ...    ...  ...  \n617   20.0      3.0     20.0     20.0  20.00  238  \n618   20.0      2.0    100.0    300.0   3.00  335  \n620   24.0      3.0     20.0     20.0   6.00  253  \n622    2.0      2.0     60.0    200.0   1.00  175  \n623   20.0      2.0    100.0    300.0   6.00  265  \n\n[516 rows x 9 columns]",
      "text/html": "<div>\n<style scoped>\n    .dataframe tbody tr th:only-of-type {\n        vertical-align: middle;\n    }\n\n    .dataframe tbody tr th {\n        vertical-align: top;\n    }\n\n    .dataframe thead th {\n        text-align: right;\n    }\n</style>\n<table border=\"1\" class=\"dataframe\">\n  <thead>\n    <tr style=\"text-align: right;\">\n      <th></th>\n      <th>SMILES</th>\n      <th>Solvent</th>\n      <th>temperature1</th>\n      <th>time1</th>\n      <th>method2</th>\n      <th>minTemp</th>\n      <th>maxTemp</th>\n      <th>time2</th>\n      <th>Tg</th>\n    </tr>\n  </thead>\n  <tbody>\n    <tr>\n      <th>0</th>\n      <td>*Cc1ccc(C(C)(CCC)c2ccc(Cn3c(=O)c4cc5c(=O)n(*)c...</td>\n      <td>DMAc</td>\n      <td>0.0</td>\n      <td>24.0</td>\n      <td>3.0</td>\n      <td>100.0</td>\n      <td>100.0</td>\n      <td>4.00</td>\n      <td>134</td>\n    </tr>\n    <tr>\n      <th>1</th>\n      <td>*c1ccc(Oc2ccc(Oc3ccc(N4C(=O)c5ccc(Oc6ccc7c(c6)...</td>\n      <td>NMP</td>\n      <td>20.0</td>\n      <td>24.0</td>\n      <td>2.0</td>\n      <td>80.0</td>\n      <td>300.0</td>\n      <td>6.50</td>\n      <td>232</td>\n    </tr>\n    <tr>\n      <th>2</th>\n      <td>*c1ccc(Oc2cc3ccccc3cc2Oc2ccc(-n3c(=O)c4cc5c(=O...</td>\n      <td>DMAc</td>\n      <td>20.0</td>\n      <td>2.0</td>\n      <td>2.0</td>\n      <td>110.0</td>\n      <td>250.0</td>\n      <td>1.25</td>\n      <td>316</td>\n    </tr>\n    <tr>\n      <th>3</th>\n      <td>*c1ccc(Oc2ccc(-n3c(=O)c4cc5c(=O)n(*)c(=O)c5cc4...</td>\n      <td>DMAc</td>\n      <td>20.0</td>\n      <td>24.0</td>\n      <td>2.0</td>\n      <td>100.0</td>\n      <td>300.0</td>\n      <td>4.00</td>\n      <td>388</td>\n    </tr>\n    <tr>\n      <th>4</th>\n      <td>*c1ccc(N(c2ccc(C#N)cc2)c2ccc(-n3c(=O)c4cc5c(=O...</td>\n      <td>DMAc</td>\n      <td>20.0</td>\n      <td>24.0</td>\n      <td>3.0</td>\n      <td>120.0</td>\n      <td>120.0</td>\n      <td>3.00</td>\n      <td>252</td>\n    </tr>\n    <tr>\n      <th>...</th>\n      <td>...</td>\n      <td>...</td>\n      <td>...</td>\n      <td>...</td>\n      <td>...</td>\n      <td>...</td>\n      <td>...</td>\n      <td>...</td>\n      <td>...</td>\n    </tr>\n    <tr>\n      <th>617</th>\n      <td>*c1ccc(Oc2ccc(N3C(=O)c4cccc(Oc5c(Oc6cccc7c6C(=...</td>\n      <td>NMP</td>\n      <td>20.0</td>\n      <td>20.0</td>\n      <td>3.0</td>\n      <td>20.0</td>\n      <td>20.0</td>\n      <td>20.00</td>\n      <td>238</td>\n    </tr>\n    <tr>\n      <th>618</th>\n      <td>*c1ccc(Cc2cccc(-n3c(=O)c4cc5c(=O)n(*)c(=O)c5cc...</td>\n      <td>DMAc</td>\n      <td>20.0</td>\n      <td>20.0</td>\n      <td>2.0</td>\n      <td>100.0</td>\n      <td>300.0</td>\n      <td>3.00</td>\n      <td>335</td>\n    </tr>\n    <tr>\n      <th>620</th>\n      <td>*c1ccc(C(C)(C)c2ccc(C(C)(C)c3ccc(N4C(=O)c5ccc(...</td>\n      <td>NMP</td>\n      <td>20.0</td>\n      <td>24.0</td>\n      <td>3.0</td>\n      <td>20.0</td>\n      <td>20.0</td>\n      <td>6.00</td>\n      <td>253</td>\n    </tr>\n    <tr>\n      <th>622</th>\n      <td>*c1cccc(OCCCCOc2cccc(N3C(=O)c4ccc(-c5ccc6c(c5)...</td>\n      <td>DMAc</td>\n      <td>20.0</td>\n      <td>2.0</td>\n      <td>2.0</td>\n      <td>60.0</td>\n      <td>200.0</td>\n      <td>1.00</td>\n      <td>175</td>\n    </tr>\n    <tr>\n      <th>623</th>\n      <td>*c1ccc(C(C)(C)c2ccc(N3C(=O)c4ccc(Oc5ccc6c(c5)C...</td>\n      <td>DMAc</td>\n      <td>20.0</td>\n      <td>20.0</td>\n      <td>2.0</td>\n      <td>100.0</td>\n      <td>300.0</td>\n      <td>6.00</td>\n      <td>265</td>\n    </tr>\n  </tbody>\n</table>\n<p>516 rows × 9 columns</p>\n</div>"
     },
     "execution_count": 3,
     "metadata": {},
     "output_type": "execute_result"
    }
   ],
   "source": [
    "df.drop_duplicates(subset=['SMILES'], keep='first', inplace=True)\n",
    "df"
   ],
   "metadata": {
    "collapsed": false,
    "pycharm": {
     "name": "#%%\n"
    }
   }
  },
  {
   "cell_type": "code",
   "execution_count": 4,
   "outputs": [],
   "source": [
    "df.to_csv(os.path.join('./dataset', 'dataMethod2DeletedDuplicates.csv'))"
   ],
   "metadata": {
    "collapsed": false,
    "pycharm": {
     "name": "#%%\n"
    }
   }
  },
  {
   "cell_type": "code",
   "execution_count": null,
   "outputs": [],
   "source": [],
   "metadata": {
    "collapsed": false,
    "pycharm": {
     "name": "#%%\n"
    }
   }
  }
 ],
 "metadata": {
  "kernelspec": {
   "display_name": "Python 3",
   "language": "python",
   "name": "python3"
  },
  "language_info": {
   "codemirror_mode": {
    "name": "ipython",
    "version": 2
   },
   "file_extension": ".py",
   "mimetype": "text/x-python",
   "name": "python",
   "nbconvert_exporter": "python",
   "pygments_lexer": "ipython2",
   "version": "2.7.6"
  }
 },
 "nbformat": 4,
 "nbformat_minor": 0
}